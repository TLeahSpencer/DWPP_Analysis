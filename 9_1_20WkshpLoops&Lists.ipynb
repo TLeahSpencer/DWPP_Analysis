{
  "nbformat": 4,
  "nbformat_minor": 0,
  "metadata": {
    "colab": {
      "name": "9.1.20WkshpLoops&Lists.ipynb",
      "provenance": [],
      "collapsed_sections": [],
      "authorship_tag": "ABX9TyOogEz9PZnoisgDXuk6+TIP",
      "include_colab_link": true
    },
    "kernelspec": {
      "name": "python3",
      "display_name": "Python 3"
    }
  },
  "cells": [
    {
      "cell_type": "markdown",
      "metadata": {
        "id": "view-in-github",
        "colab_type": "text"
      },
      "source": [
        "<a href=\"https://colab.research.google.com/github/TLeahSpencer/DWPP_Analysis/blob/master/9_1_20WkshpLoops%26Lists.ipynb\" target=\"_parent\"><img src=\"https://colab.research.google.com/assets/colab-badge.svg\" alt=\"Open In Colab\"/></a>"
      ]
    },
    {
      "cell_type": "markdown",
      "metadata": {
        "id": "dQGprOi2OMjD",
        "colab_type": "text"
      },
      "source": [
        "##Office Hours workshop with Anade (Terrence Davis)\n",
        "#Working with Loop & Lists in Python"
      ]
    },
    {
      "cell_type": "markdown",
      "metadata": {
        "id": "a59PcE5XaduZ",
        "colab_type": "text"
      },
      "source": [
        "Interger = Number\n",
        "\n",
        "Float = Numbers with Decimals\n",
        "\n",
        "String = Sequence of Characters (Words, letters, numbers, integers, floats, and etc.)\n",
        "\n",
        "Object = All Characters (Strings and Objects have become synonymous)\n",
        "\n",
        "List = A sequence of objects/strings...Example: me = ('Laya', 45, 'Alt') (Lists are Tuples by default unless you add Brackets)\n",
        "\n",
        "Brackets = Make it a List [Means you can change values withing variable aka mutable]\n",
        "\n",
        "###Tuple = Parenthesis (Means you cannot changel values within variable unless you recreate variable aka immutable)\n",
        "\n",
        "###Regex = Regular expressions"
      ]
    },
    {
      "cell_type": "markdown",
      "metadata": {
        "id": "l7buTqvQcGfi",
        "colab_type": "text"
      },
      "source": [
        "Dictionary = Create key values (used heavily in NoSQL)\n",
        "\n",
        "NoSQL = (Not Only Structured Query Languate) = Language used to work with unstructured data\n",
        "\n",
        "NoSQL Softwares =  Mondodb, Cassandra, Redis, Amazon Dynamo DB\n",
        "\n",
        "SQL = (Structured Query Language) = Language usted to work with structured data\n",
        "\n",
        "SQL Softwares = PostreSQL, Microsoft SQL, MySQL, SQLite\n",
        "\n",
        "Loops = perform a task over and over again\n",
        "\n",
        "###Range Function = Outputs an ordered sequence as a list"
      ]
    },
    {
      "cell_type": "code",
      "metadata": {
        "id": "p5Yg0RR25rFy",
        "colab_type": "code",
        "colab": {}
      },
      "source": [
        "Laya=[33,55,25,20,18,13,2,6,6,51,67]"
      ],
      "execution_count": null,
      "outputs": []
    },
    {
      "cell_type": "code",
      "metadata": {
        "id": "H-j5Avh4OLNm",
        "colab_type": "code",
        "colab": {
          "base_uri": "https://localhost:8080/",
          "height": 33
        },
        "outputId": "bc4f7607-6343-488a-c88e-381c3f9ff788"
      },
      "source": [
        "#You noticed we can change the variable\n",
        "#This is called a mutable function aka list\n",
        "Laya"
      ],
      "execution_count": null,
      "outputs": [
        {
          "output_type": "execute_result",
          "data": {
            "text/plain": [
              "[33, 55, 25, 20, 18, 13, 2, 6, 6, 51, 67]"
            ]
          },
          "metadata": {
            "tags": []
          },
          "execution_count": 3
        }
      ]
    },
    {
      "cell_type": "code",
      "metadata": {
        "id": "5WueDBnFdO_3",
        "colab_type": "code",
        "colab": {}
      },
      "source": [
        "#We want to change out 3rd position to the number 5\n",
        "Laya [2] = 5"
      ],
      "execution_count": null,
      "outputs": []
    },
    {
      "cell_type": "code",
      "metadata": {
        "id": "uDX6js6NdWAy",
        "colab_type": "code",
        "colab": {
          "base_uri": "https://localhost:8080/",
          "height": 33
        },
        "outputId": "012c9131-2d35-4e5a-dd93-34b2f7f0b4f0"
      },
      "source": [
        "Laya"
      ],
      "execution_count": null,
      "outputs": [
        {
          "output_type": "execute_result",
          "data": {
            "text/plain": [
              "[33, 55, 5, 20, 18, 13, 2, 6, 6, 51, 67]"
            ]
          },
          "metadata": {
            "tags": []
          },
          "execution_count": 5
        }
      ]
    },
    {
      "cell_type": "code",
      "metadata": {
        "id": "f6a9BFvadrXQ",
        "colab_type": "code",
        "colab": {}
      },
      "source": [
        "#Now change the 9th position to letter T\n",
        "Laya [5] = \"T\""
      ],
      "execution_count": null,
      "outputs": []
    },
    {
      "cell_type": "code",
      "metadata": {
        "id": "ylRqtXCvd2cv",
        "colab_type": "code",
        "colab": {
          "base_uri": "https://localhost:8080/",
          "height": 33
        },
        "outputId": "168d3929-5358-4a61-f2f8-56c5c75a3f2e"
      },
      "source": [
        "Laya"
      ],
      "execution_count": null,
      "outputs": [
        {
          "output_type": "execute_result",
          "data": {
            "text/plain": [
              "[33, 55, 5, 20, 18, 'T', 2, 6, 6, 51, 67]"
            ]
          },
          "metadata": {
            "tags": []
          },
          "execution_count": 7
        }
      ]
    },
    {
      "cell_type": "code",
      "metadata": {
        "id": "SIraxWLjd3ev",
        "colab_type": "code",
        "colab": {}
      },
      "source": [
        "#Because we use PARENTHESES instead of BRACKETS, this is called\n",
        "#an IMMUTABLE function aka a TUPLE\n",
        "Laya2 = (21,4,24,6,4)"
      ],
      "execution_count": null,
      "outputs": []
    },
    {
      "cell_type": "code",
      "metadata": {
        "id": "Mgeg1_BUeQTF",
        "colab_type": "code",
        "colab": {
          "base_uri": "https://localhost:8080/",
          "height": 33
        },
        "outputId": "43fa561a-e7df-42ac-e729-d7429d08bbf3"
      },
      "source": [
        "Laya2"
      ],
      "execution_count": null,
      "outputs": [
        {
          "output_type": "execute_result",
          "data": {
            "text/plain": [
              "(21, 4, 24, 6, 4)"
            ]
          },
          "metadata": {
            "tags": []
          },
          "execution_count": 9
        }
      ]
    },
    {
      "cell_type": "code",
      "metadata": {
        "id": "auQfHY2MeR58",
        "colab_type": "code",
        "colab": {
          "base_uri": "https://localhost:8080/",
          "height": 161
        },
        "outputId": "bfd7ae95-192a-4bd0-87b5-004ca333f4e5"
      },
      "source": [
        "#This cell will not run, because you cannot work with positions in a tuple\n",
        "Laya2 [2] = 5"
      ],
      "execution_count": null,
      "outputs": [
        {
          "output_type": "error",
          "ename": "TypeError",
          "evalue": "ignored",
          "traceback": [
            "\u001b[0;31m---------------------------------------------------------------------------\u001b[0m",
            "\u001b[0;31mTypeError\u001b[0m                                 Traceback (most recent call last)",
            "\u001b[0;32m<ipython-input-10-d82679da3066>\u001b[0m in \u001b[0;36m<module>\u001b[0;34m()\u001b[0m\n\u001b[0;32m----> 1\u001b[0;31m \u001b[0mLaya2\u001b[0m \u001b[0;34m[\u001b[0m\u001b[0;36m2\u001b[0m\u001b[0;34m]\u001b[0m \u001b[0;34m=\u001b[0m \u001b[0;36m5\u001b[0m\u001b[0;34m\u001b[0m\u001b[0;34m\u001b[0m\u001b[0m\n\u001b[0m",
            "\u001b[0;31mTypeError\u001b[0m: 'tuple' object does not support item assignment"
          ]
        }
      ]
    },
    {
      "cell_type": "code",
      "metadata": {
        "id": "bkgNc6uVeVKs",
        "colab_type": "code",
        "colab": {}
      },
      "source": [
        "#define another variable money with a List [using brackets]\n",
        "Money = ['Dollars','Gold Coins','Pesos','Columbian Pesos']"
      ],
      "execution_count": null,
      "outputs": []
    },
    {
      "cell_type": "code",
      "metadata": {
        "id": "8LO6qLVSevaJ",
        "colab_type": "code",
        "colab": {
          "base_uri": "https://localhost:8080/",
          "height": 33
        },
        "outputId": "c1de9835-404f-44c5-b821-636b48feabb6"
      },
      "source": [
        "Money"
      ],
      "execution_count": null,
      "outputs": [
        {
          "output_type": "execute_result",
          "data": {
            "text/plain": [
              "['Dollars', 'Gold Coins', 'Pesos', 'Columbian Pesos']"
            ]
          },
          "metadata": {
            "tags": []
          },
          "execution_count": 12
        }
      ]
    },
    {
      "cell_type": "code",
      "metadata": {
        "id": "T8Rw5fiXewXB",
        "colab_type": "code",
        "colab": {
          "base_uri": "https://localhost:8080/",
          "height": 33
        },
        "outputId": "5733500e-436c-4850-b0e2-841df883ecd8"
      },
      "source": [
        "#find out what type object Money is\n",
        "type(Money)"
      ],
      "execution_count": null,
      "outputs": [
        {
          "output_type": "execute_result",
          "data": {
            "text/plain": [
              "list"
            ]
          },
          "metadata": {
            "tags": []
          },
          "execution_count": 13
        }
      ]
    },
    {
      "cell_type": "code",
      "metadata": {
        "id": "-e_zpiZPezHB",
        "colab_type": "code",
        "colab": {
          "base_uri": "https://localhost:8080/",
          "height": 35
        },
        "outputId": "778fbb99-97b7-40bc-a08c-1e8bf952dd90"
      },
      "source": [
        "#the first data point in a list\n",
        "#because indexing starts at 0, ex. 0,1,2 = 1st,2nd,3rd\n",
        "Money[0]"
      ],
      "execution_count": null,
      "outputs": [
        {
          "output_type": "execute_result",
          "data": {
            "application/vnd.google.colaboratory.intrinsic+json": {
              "type": "string"
            },
            "text/plain": [
              "'Dollars'"
            ]
          },
          "metadata": {
            "tags": []
          },
          "execution_count": 14
        }
      ]
    },
    {
      "cell_type": "code",
      "metadata": {
        "id": "DP4_7a_0e2qg",
        "colab_type": "code",
        "colab": {
          "base_uri": "https://localhost:8080/",
          "height": 35
        },
        "outputId": "1e23a6ac-519c-496c-9660-ec50ec8d64fb"
      },
      "source": [
        "#this indexing function will access the 3rd position in the list\n",
        "Money[2]"
      ],
      "execution_count": null,
      "outputs": [
        {
          "output_type": "execute_result",
          "data": {
            "application/vnd.google.colaboratory.intrinsic+json": {
              "type": "string"
            },
            "text/plain": [
              "'Pesos'"
            ]
          },
          "metadata": {
            "tags": []
          },
          "execution_count": 15
        }
      ]
    },
    {
      "cell_type": "code",
      "metadata": {
        "id": "GKe_bULSfEy6",
        "colab_type": "code",
        "colab": {}
      },
      "source": [
        "#Code to replace a value in a list\n",
        "Money[1]='Silver'"
      ],
      "execution_count": null,
      "outputs": []
    },
    {
      "cell_type": "code",
      "metadata": {
        "id": "HqC_SPT5fKJe",
        "colab_type": "code",
        "colab": {
          "base_uri": "https://localhost:8080/",
          "height": 33
        },
        "outputId": "39d3a8bd-115d-4e7e-8944-f581349ba68c"
      },
      "source": [
        "Money"
      ],
      "execution_count": null,
      "outputs": [
        {
          "output_type": "execute_result",
          "data": {
            "text/plain": [
              "['Dollars', 'Silver', 'Pesos', 'Columbian Pesos']"
            ]
          },
          "metadata": {
            "tags": []
          },
          "execution_count": 17
        }
      ]
    },
    {
      "cell_type": "code",
      "metadata": {
        "id": "ljDBFYevfLM8",
        "colab_type": "code",
        "colab": {
          "base_uri": "https://localhost:8080/",
          "height": 33
        },
        "outputId": "fee27e60-7e40-4adb-bd10-2bd79c166887"
      },
      "source": [
        "#the first number represents our starting point\n",
        "#the second number in a slice will tell you what position to end at\n",
        "#but the end position will not be included in the output\n",
        "Money[0:2]"
      ],
      "execution_count": null,
      "outputs": [
        {
          "output_type": "execute_result",
          "data": {
            "text/plain": [
              "['Dollars', 'Silver']"
            ]
          },
          "metadata": {
            "tags": []
          },
          "execution_count": 18
        }
      ]
    },
    {
      "cell_type": "code",
      "metadata": {
        "id": "wowcPmgZfdon",
        "colab_type": "code",
        "colab": {
          "base_uri": "https://localhost:8080/",
          "height": 33
        },
        "outputId": "729bd66d-c855-4d8e-cd4e-97b169f13058"
      },
      "source": [
        "Money[0:3]"
      ],
      "execution_count": null,
      "outputs": [
        {
          "output_type": "execute_result",
          "data": {
            "text/plain": [
              "['Dollars', 'Silver', 'Pesos']"
            ]
          },
          "metadata": {
            "tags": []
          },
          "execution_count": 19
        }
      ]
    },
    {
      "cell_type": "code",
      "metadata": {
        "id": "w36aCJ2KgAd2",
        "colab_type": "code",
        "colab": {
          "base_uri": "https://localhost:8080/",
          "height": 33
        },
        "outputId": "0e2ab7ce-bc35-4e2c-8651-8472bb601c32"
      },
      "source": [
        "#leaving off the end position will give you the remainder of the list\n",
        "Money[1:]"
      ],
      "execution_count": null,
      "outputs": [
        {
          "output_type": "execute_result",
          "data": {
            "text/plain": [
              "['Silver', 'Pesos', 'Columbian Pesos']"
            ]
          },
          "metadata": {
            "tags": []
          },
          "execution_count": 22
        }
      ]
    },
    {
      "cell_type": "code",
      "metadata": {
        "id": "-TbT65Y-gCfj",
        "colab_type": "code",
        "colab": {
          "base_uri": "https://localhost:8080/",
          "height": 33
        },
        "outputId": "a0cc20c7-5245-4a8b-afec-65d1ed296b79"
      },
      "source": [
        "#leaving off the first position will give you all values BEFORE the ending position\n",
        "Money[:3]"
      ],
      "execution_count": null,
      "outputs": [
        {
          "output_type": "execute_result",
          "data": {
            "text/plain": [
              "['Dollars', 'Silver', 'Pesos']"
            ]
          },
          "metadata": {
            "tags": []
          },
          "execution_count": 23
        }
      ]
    },
    {
      "cell_type": "code",
      "metadata": {
        "id": "cM6QfOwugTVI",
        "colab_type": "code",
        "colab": {
          "base_uri": "https://localhost:8080/",
          "height": 33
        },
        "outputId": "74e0ab97-2138-4a9b-9324-3fb7f47700f2"
      },
      "source": [
        "Money"
      ],
      "execution_count": null,
      "outputs": [
        {
          "output_type": "execute_result",
          "data": {
            "text/plain": [
              "['Dollars', 'Silver', 'Pesos', 'Columbian Pesos']"
            ]
          },
          "metadata": {
            "tags": []
          },
          "execution_count": 24
        }
      ]
    },
    {
      "cell_type": "code",
      "metadata": {
        "id": "WQT7pvSngVDT",
        "colab_type": "code",
        "colab": {
          "base_uri": "https://localhost:8080/",
          "height": 33
        },
        "outputId": "61402a1d-33ec-4e76-e17c-9770faa35b04"
      },
      "source": [
        "#this reverses your list\n",
        "Money[::-1]"
      ],
      "execution_count": null,
      "outputs": [
        {
          "output_type": "execute_result",
          "data": {
            "text/plain": [
              "['Columbian Pesos', 'Pesos', 'Silver', 'Dollars']"
            ]
          },
          "metadata": {
            "tags": []
          },
          "execution_count": 24
        }
      ]
    },
    {
      "cell_type": "code",
      "metadata": {
        "id": "k7ywQIu3gZZu",
        "colab_type": "code",
        "colab": {
          "base_uri": "https://localhost:8080/",
          "height": 33
        },
        "outputId": "b21d42c6-4aef-4a59-93c7-9b89591f09ca"
      },
      "source": [
        "#but it doesn't make the change permanent\n",
        "print(Money)"
      ],
      "execution_count": null,
      "outputs": [
        {
          "output_type": "stream",
          "text": [
            "['Dollars', 'Silver', 'Pesos', 'Columbian Pesos']\n"
          ],
          "name": "stdout"
        }
      ]
    },
    {
      "cell_type": "code",
      "metadata": {
        "id": "R_XQeiDMgboD",
        "colab_type": "code",
        "colab": {
          "base_uri": "https://localhost:8080/",
          "height": 33
        },
        "outputId": "c93b427a-7c87-49b9-fb27-cd2cf1c10fd1"
      },
      "source": [
        "#it starts from 0 in Money dataframe\n",
        "#It goes backwards and access the point at the -3 position\n",
        "print(Money[0:-3])"
      ],
      "execution_count": null,
      "outputs": [
        {
          "output_type": "stream",
          "text": [
            "['Dollars']\n"
          ],
          "name": "stdout"
        }
      ]
    },
    {
      "cell_type": "code",
      "metadata": {
        "id": "7dagaaT0gf5-",
        "colab_type": "code",
        "colab": {}
      },
      "source": [
        "#the curly brackets now make it a Set aka an Unordered List\n",
        "Laya3 = {1,4,3,53,63,645,76,.91}"
      ],
      "execution_count": null,
      "outputs": []
    },
    {
      "cell_type": "code",
      "metadata": {
        "id": "Kx92Z6dEg9Z2",
        "colab_type": "code",
        "colab": {
          "base_uri": "https://localhost:8080/",
          "height": 33
        },
        "outputId": "e8039267-250a-4545-93d0-3340f145557b"
      },
      "source": [
        "#when you call the Set, it orders them for you in ascending order\n",
        "#notice the Float is listed first, as it's value is less than 1\n",
        "Laya3"
      ],
      "execution_count": null,
      "outputs": [
        {
          "output_type": "execute_result",
          "data": {
            "text/plain": [
              "{0.91, 1, 3, 4, 53, 63, 76, 645}"
            ]
          },
          "metadata": {
            "tags": []
          },
          "execution_count": 27
        }
      ]
    },
    {
      "cell_type": "code",
      "metadata": {
        "id": "1i1d624kg-42",
        "colab_type": "code",
        "colab": {
          "base_uri": "https://localhost:8080/",
          "height": 167
        },
        "outputId": "abe43d52-a5d4-4b27-a0ce-72cc79a7c33b"
      },
      "source": [
        "#this is the range function\n",
        "#as you see, it creates a range, starting at 0, with the number of values you select\n",
        "for x in range(9):\n",
        "  print(x)"
      ],
      "execution_count": null,
      "outputs": [
        {
          "output_type": "stream",
          "text": [
            "0\n",
            "1\n",
            "2\n",
            "3\n",
            "4\n",
            "5\n",
            "6\n",
            "7\n",
            "8\n"
          ],
          "name": "stdout"
        }
      ]
    },
    {
      "cell_type": "code",
      "metadata": {
        "id": "6FSjdvlfhTf1",
        "colab_type": "code",
        "colab": {
          "base_uri": "https://localhost:8080/",
          "height": 167
        },
        "outputId": "aa89f74e-3376-4691-8a65-9cdbeebbec10"
      },
      "source": [
        "#what's the use case for this?\n",
        "#quick math, quick calculations, quick ratios\n",
        "#used by many Engineers, Developers and Coding Tests\n",
        "\n",
        "#below we multiply all the numbers in the range by 6, individually\n",
        "for x in range (9):\n",
        "  print(x * 6)"
      ],
      "execution_count": null,
      "outputs": [
        {
          "output_type": "stream",
          "text": [
            "0\n",
            "6\n",
            "12\n",
            "18\n",
            "24\n",
            "30\n",
            "36\n",
            "42\n",
            "48\n"
          ],
          "name": "stdout"
        }
      ]
    },
    {
      "cell_type": "code",
      "metadata": {
        "id": "EV-SbGNlhY4E",
        "colab_type": "code",
        "colab": {
          "base_uri": "https://localhost:8080/",
          "height": 100
        },
        "outputId": "55c0ecf8-e712-4d2e-9e73-37ded2142df5"
      },
      "source": [
        "#now we create a range within a range\n",
        "#this is similar to a slice, where the first number tells where the range starts\n",
        "for x in range(1,6):\n",
        "  print(x)"
      ],
      "execution_count": null,
      "outputs": [
        {
          "output_type": "stream",
          "text": [
            "1\n",
            "2\n",
            "3\n",
            "4\n",
            "5\n"
          ],
          "name": "stdout"
        }
      ]
    },
    {
      "cell_type": "code",
      "metadata": {
        "id": "YpxbL5tQgYuz",
        "colab_type": "code",
        "colab": {
          "base_uri": "https://localhost:8080/",
          "height": 67
        },
        "outputId": "d9384bc8-58fe-4b70-c962-f54e926375c3"
      },
      "source": [
        "#here is an example of how to get only 3 values in a range of 8 (0-7)\n",
        "#remember 0 is the first position\n",
        "for y in range(5,8):\n",
        "  print(y)"
      ],
      "execution_count": null,
      "outputs": [
        {
          "output_type": "stream",
          "text": [
            "5\n",
            "6\n",
            "7\n"
          ],
          "name": "stdout"
        }
      ]
    },
    {
      "cell_type": "code",
      "metadata": {
        "id": "365ijDFlhtA0",
        "colab_type": "code",
        "colab": {
          "base_uri": "https://localhost:8080/",
          "height": 134
        },
        "outputId": "ad5feca3-dc21-485d-fc37-faf14ccd4446"
      },
      "source": [
        "#now let's do some math between our range\n",
        "#the 6 tells you what position to start\n",
        "#the 49 tells you what position to end\n",
        "#the 7 tells you how many positions to 'step' with each outcome\n",
        "for x in range(6, 49, 7):\n",
        "  print(x)"
      ],
      "execution_count": null,
      "outputs": [
        {
          "output_type": "stream",
          "text": [
            "6\n",
            "13\n",
            "20\n",
            "27\n",
            "34\n",
            "41\n",
            "48\n"
          ],
          "name": "stdout"
        }
      ]
    },
    {
      "cell_type": "code",
      "metadata": {
        "id": "GynOmKPGhzjN",
        "colab_type": "code",
        "colab": {
          "base_uri": "https://localhost:8080/",
          "height": 167
        },
        "outputId": "a5c45f58-cfe7-476a-8e33-9df1869a834d"
      },
      "source": [
        "#adding an else function\n",
        "#note the b can be anything you want, it is totally a made up thing\n",
        "for b in range(8):\n",
        "  print(b)\n",
        "else:\n",
        "  print('Done!')"
      ],
      "execution_count": null,
      "outputs": [
        {
          "output_type": "stream",
          "text": [
            "0\n",
            "1\n",
            "2\n",
            "3\n",
            "4\n",
            "5\n",
            "6\n",
            "7\n",
            "Done!\n"
          ],
          "name": "stdout"
        }
      ]
    },
    {
      "cell_type": "code",
      "metadata": {
        "id": "GFj1tcRyiHQT",
        "colab_type": "code",
        "colab": {
          "base_uri": "https://localhost:8080/",
          "height": 334
        },
        "outputId": "a86011a0-094e-4678-917b-2158a602a98f"
      },
      "source": [
        "#define the variable Playdate\n",
        "Playdate = \"Laya Plays All Days\"\n",
        "\n",
        "#define the variable x\n",
        "x = 0\n",
        "\n",
        "#create a LOOP that begins at the first position\n",
        "#and ends when it reaches the last position\n",
        "for i in Playdate:\n",
        "  x=x+1\n",
        "  print(Playdate[0:x])"
      ],
      "execution_count": null,
      "outputs": [
        {
          "output_type": "stream",
          "text": [
            "L\n",
            "La\n",
            "Lay\n",
            "Laya\n",
            "Laya \n",
            "Laya P\n",
            "Laya Pl\n",
            "Laya Pla\n",
            "Laya Play\n",
            "Laya Plays\n",
            "Laya Plays \n",
            "Laya Plays A\n",
            "Laya Plays Al\n",
            "Laya Plays All\n",
            "Laya Plays All \n",
            "Laya Plays All D\n",
            "Laya Plays All Da\n",
            "Laya Plays All Day\n",
            "Laya Plays All Days\n"
          ],
          "name": "stdout"
        }
      ]
    },
    {
      "cell_type": "code",
      "metadata": {
        "id": "PwrgN6ZSjSxR",
        "colab_type": "code",
        "colab": {
          "base_uri": "https://localhost:8080/",
          "height": 334
        },
        "outputId": "009a10b9-dcf0-4bcb-a945-a566edb76e6c"
      },
      "source": [
        "#define another variable that will start the function at the 2nd position\n",
        "y = 1\n",
        "\n",
        "for i in Playdate:\n",
        "  y = y + 1\n",
        "  print(Playdate[1:y])"
      ],
      "execution_count": null,
      "outputs": [
        {
          "output_type": "stream",
          "text": [
            "a\n",
            "ay\n",
            "aya\n",
            "aya \n",
            "aya P\n",
            "aya Pl\n",
            "aya Pla\n",
            "aya Play\n",
            "aya Plays\n",
            "aya Plays \n",
            "aya Plays A\n",
            "aya Plays Al\n",
            "aya Plays All\n",
            "aya Plays All \n",
            "aya Plays All D\n",
            "aya Plays All Da\n",
            "aya Plays All Day\n",
            "aya Plays All Days\n",
            "aya Plays All Days\n"
          ],
          "name": "stdout"
        }
      ]
    },
    {
      "cell_type": "code",
      "metadata": {
        "id": "B8u-bB7UikBx",
        "colab_type": "code",
        "colab": {
          "base_uri": "https://localhost:8080/",
          "height": 334
        },
        "outputId": "fbd2ab72-5267-4290-98b9-7c92deca2714"
      },
      "source": [
        "#note the number you assign the variable tells how many postions to start with\n",
        "#the number you add in the loop function tells how many to add each time\n",
        "y = 4\n",
        "\n",
        "for i in Playdate:\n",
        "  y = y + 4\n",
        "  print(Playdate[1:y])\n"
      ],
      "execution_count": null,
      "outputs": [
        {
          "output_type": "stream",
          "text": [
            "aya Pla\n",
            "aya Plays A\n",
            "aya Plays All D\n",
            "aya Plays All Days\n",
            "aya Plays All Days\n",
            "aya Plays All Days\n",
            "aya Plays All Days\n",
            "aya Plays All Days\n",
            "aya Plays All Days\n",
            "aya Plays All Days\n",
            "aya Plays All Days\n",
            "aya Plays All Days\n",
            "aya Plays All Days\n",
            "aya Plays All Days\n",
            "aya Plays All Days\n",
            "aya Plays All Days\n",
            "aya Plays All Days\n",
            "aya Plays All Days\n",
            "aya Plays All Days\n"
          ],
          "name": "stdout"
        }
      ]
    },
    {
      "cell_type": "code",
      "metadata": {
        "id": "PzvJqXnfjGW9",
        "colab_type": "code",
        "colab": {}
      },
      "source": [
        "#example of a FOR LOOP an how to BREAK it\n",
        "#first define the List\n",
        "Pay = ['Silver','Gold','Platinum','Cash','Bitcoin']"
      ],
      "execution_count": null,
      "outputs": []
    },
    {
      "cell_type": "code",
      "metadata": {
        "id": "hm77vKz6j7T2",
        "colab_type": "code",
        "colab": {
          "base_uri": "https://localhost:8080/",
          "height": 100
        },
        "outputId": "327f3bc1-47e5-4dfb-d5ec-9f79aab2ffec"
      },
      "source": [
        "#then test the base of the loop function\n",
        "for x in Pay:\n",
        "  print(x)"
      ],
      "execution_count": null,
      "outputs": [
        {
          "output_type": "stream",
          "text": [
            "Silver\n",
            "Gold\n",
            "Platinum\n",
            "Cash\n",
            "Bitcoin\n"
          ],
          "name": "stdout"
        }
      ]
    },
    {
      "cell_type": "code",
      "metadata": {
        "id": "VIJHM1Orj_DX",
        "colab_type": "code",
        "colab": {
          "base_uri": "https://localhost:8080/",
          "height": 84
        },
        "outputId": "c3264124-21af-4b7a-da85-7581be94c629"
      },
      "source": [
        "#now break the loop when it gets to 'Cash'\n",
        "for x in Pay:\n",
        "  print(x)\n",
        "  if x == 'Cash':\n",
        "      break"
      ],
      "execution_count": null,
      "outputs": [
        {
          "output_type": "stream",
          "text": [
            "Silver\n",
            "Gold\n",
            "Platinum\n",
            "Cash\n"
          ],
          "name": "stdout"
        }
      ]
    },
    {
      "cell_type": "markdown",
      "metadata": {
        "id": "1jwMTtFGk14b",
        "colab_type": "text"
      },
      "source": [
        "\n",
        "\n",
        "*   if the x input is True the the Loop breaks immediately\n",
        "    \n",
        "  case use: Automated Survey\n",
        "            when you answer a question with an answer they are not looking for, you cannot continue the survey... like when employers require a Bachelor's degree for a job applicant, and you don't lie about it, you can't get to the interview process :)\n",
        "\n"
      ]
    },
    {
      "cell_type": "code",
      "metadata": {
        "id": "q-umA4lclvrk",
        "colab_type": "code",
        "colab": {
          "base_uri": "https://localhost:8080/",
          "height": 67
        },
        "outputId": "999fb119-14da-4698-ea22-222d584fd295"
      },
      "source": [
        "#if you move the print() function to AFTER the break...\n",
        "#the output will not include the 'breaking point' I totally just made up that term\n",
        "#just another monkey with a typewriter 'not' quoting Shakespeare\n",
        "for x in Pay:\n",
        "  if x == 'Cash':\n",
        "      break\n",
        "  print(x)"
      ],
      "execution_count": null,
      "outputs": [
        {
          "output_type": "stream",
          "text": [
            "Silver\n",
            "Gold\n",
            "Platinum\n"
          ],
          "name": "stdout"
        }
      ]
    },
    {
      "cell_type": "markdown",
      "metadata": {
        "id": "cOajvZ3mmebK",
        "colab_type": "text"
      },
      "source": [
        "##While Loops are repeated as long as the expression is True.\n",
        "\n",
        "**Conditional Statements**\n",
        "\n",
        "Equals: x == y\n",
        "\n",
        "Does Not Equal: x != y\n",
        "\n",
        "Less Than: x < y\n",
        "\n",
        "Less Than OR Equal To: x <= y\n",
        "\n",
        "Greater Than: x > y\n",
        "\n",
        "Greater Than OR Equal To: x >= y\n",
        "\n",
        "\n",
        "**note**: most spaces in Python are irrelevant, \n",
        "\n",
        "they can be or not be, doesn't affect outputs"
      ]
    },
    {
      "cell_type": "code",
      "metadata": {
        "id": "3HeCSVr1kt-T",
        "colab_type": "code",
        "colab": {
          "base_uri": "https://localhost:8080/",
          "height": 84
        },
        "outputId": "fb3351a5-4143-40c5-fa5e-c431f53bf4e5"
      },
      "source": [
        "#if payment doesn't equal cash we print it\n",
        "for x in Pay:\n",
        "  if x != 'Cash':\n",
        "    print(x)"
      ],
      "execution_count": null,
      "outputs": [
        {
          "output_type": "stream",
          "text": [
            "Silver\n",
            "Gold\n",
            "Platinum\n",
            "Bitcoin\n"
          ],
          "name": "stdout"
        }
      ]
    },
    {
      "cell_type": "code",
      "metadata": {
        "id": "ozz74ZZEk2HC",
        "colab_type": "code",
        "colab": {}
      },
      "source": [
        ""
      ],
      "execution_count": null,
      "outputs": []
    }
  ]
}